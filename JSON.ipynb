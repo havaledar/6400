{
  "nbformat": 4,
  "nbformat_minor": 0,
  "metadata": {
    "colab": {
      "provenance": [],
      "authorship_tag": "ABX9TyMuTOU9uWpOJKjwSRZW6OCK",
      "include_colab_link": true
    },
    "kernelspec": {
      "name": "python3",
      "display_name": "Python 3"
    },
    "language_info": {
      "name": "python"
    }
  },
  "cells": [
    {
      "cell_type": "markdown",
      "metadata": {
        "id": "view-in-github",
        "colab_type": "text"
      },
      "source": [
        "<a href=\"https://colab.research.google.com/github/havaledar/6400/blob/main/JSON.ipynb\" target=\"_parent\"><img src=\"https://colab.research.google.com/assets/colab-badge.svg\" alt=\"Open In Colab\"/></a>"
      ]
    },
    {
      "cell_type": "code",
      "execution_count": 2,
      "metadata": {
        "id": "e-RO3-rzL1Al"
      },
      "outputs": [],
      "source": [
        "import json\n",
        "\n",
        "\n",
        "# Extract the key sentences from each paragraph\n",
        "key_sentences = []\n",
        "for p in paragraphs:\n",
        "    sentences = p.split(\". \")\n",
        "    for s in sentences:\n",
        "        if \"key sentence:\" in s.lower():\n",
        "            key_sentences.append(s.replace(\"Key sentence:\", \"\").strip())\n",
        "\n",
        "# Create a dictionary to store the results\n",
        "result = {\"paragraphs\": paragraphs, \"key_sentences\": key_sentences}\n",
        "\n",
        "# Save the result as a JSON file\n",
        "with open(\"result.json\", \"w\") as f:\n",
        "    json.dump(result, f)\n"
      ]
    },
    {
      "cell_type": "code",
      "source": [
        "result['paragraphs'][1]"
      ],
      "metadata": {
        "colab": {
          "base_uri": "https://localhost:8080/",
          "height": 122
        },
        "id": "RLfGTMd9VEVd",
        "outputId": "440110af-7043-40d9-fcb6-0b7bbdfbb6c3"
      },
      "execution_count": 16,
      "outputs": [
        {
          "output_type": "execute_result",
          "data": {
            "text/plain": [
              "'Education is the key to unlocking a better future for individuals and society as a whole. By providing people with the knowledge and skills they need to succeed, we can create a more just and equitable world. Education has been shown to reduce poverty, increase social mobility, and improve health outcomes. It is crucial that we invest in education at all levels, from early childhood to adulthood, to ensure that everyone has the opportunity to reach their full potential.\\nKey sentence: \"Education is the key to unlocking a better future for individuals and society as a whole.\"'"
            ],
            "application/vnd.google.colaboratory.intrinsic+json": {
              "type": "string"
            }
          },
          "metadata": {},
          "execution_count": 16
        }
      ]
    },
    {
      "cell_type": "code",
      "source": [
        "result['key_sentences'][1]"
      ],
      "metadata": {
        "colab": {
          "base_uri": "https://localhost:8080/",
          "height": 70
        },
        "id": "Db1lCWvoVFH-",
        "outputId": "d40717d4-7cfa-4e00-9801-be1f6075f64e"
      },
      "execution_count": 15,
      "outputs": [
        {
          "output_type": "execute_result",
          "data": {
            "text/plain": [
              "'It is crucial that we invest in education at all levels, from early childhood to adulthood, to ensure that everyone has the opportunity to reach their full potential.\\n \"Education is the key to unlocking a better future for individuals and society as a whole.\"'"
            ],
            "application/vnd.google.colaboratory.intrinsic+json": {
              "type": "string"
            }
          },
          "metadata": {},
          "execution_count": 15
        }
      ]
    },
    {
      "cell_type": "code",
      "source": [
        "import re\n",
        "import json\n",
        "\n",
        "with open('texts.txt', 'r') as file:\n",
        "    text = file.read()\n",
        "\n",
        "# Replace all double quotes with an empty string\n",
        "text = text.replace('\"', '')\n",
        "\n",
        "# Remove any \"Paragraph #\" pattern from the text\n",
        "text = re.sub(r\"\\n+(Paragraph \\d+:)\", \"\\n\", text)\n",
        "\n",
        "# Remove newlines before \"Key sentence:\"\n",
        "text = re.sub(r'\\n+(Key sentence:)', r'\\1', text)\n",
        "\n",
        "# Split the text into paragraphs\n",
        "paragraphs_key_sentences = text.split(\"\\n\\n\")\n",
        "\n",
        "# Remove all paragraphs that contain \"7 paragraphs\"\n",
        "for s in paragraphs_key_sentences:\n",
        "  if \"7 paragraphs\" in s:\n",
        "    paragraphs_key_sentences.remove(s)\n",
        "\n",
        "# Extract the key sentences from each paragraph\n",
        "paragraphs=[]\n",
        "key_sentences = []\n",
        "\n",
        "for p in paragraphs_key_sentences:\n",
        "    par, key = p.split(\"Key sentence:\")\n",
        "    key_sentences.append(key)\n",
        "    paragraphs.append(par)\n",
        "\n",
        "# Create a dictionary to store the results\n",
        "result = {\"paragraphs\": paragraphs, \"key_sentences\": key_sentences}\n",
        "\n",
        "# Save the result as a JSON file\n",
        "with open(\"result.json\", \"w\") as f:\n",
        "    json.dump(result, f)\n",
        "\n",
        "# # Create a text file \n",
        "# with open('output.txt', 'w') as file:\n",
        "#     file.write(text)"
      ],
      "metadata": {
        "id": "_LqcBH0dWqTT"
      },
      "execution_count": 85,
      "outputs": []
    }
  ]
}