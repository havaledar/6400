{
  "nbformat": 4,
  "nbformat_minor": 0,
  "metadata": {
    "colab": {
      "provenance": [],
      "authorship_tag": "ABX9TyP/vkSSs6/B1X9yqxR9vI09",
      "include_colab_link": true
    },
    "kernelspec": {
      "name": "python3",
      "display_name": "Python 3"
    },
    "language_info": {
      "name": "python"
    },
    "accelerator": "GPU",
    "gpuClass": "standard"
  },
  "cells": [
    {
      "cell_type": "markdown",
      "metadata": {
        "id": "view-in-github",
        "colab_type": "text"
      },
      "source": [
        "<a href=\"https://colab.research.google.com/github/havaledar/6400/blob/main/data.ipynb\" target=\"_parent\"><img src=\"https://colab.research.google.com/assets/colab-badge.svg\" alt=\"Open In Colab\"/></a>"
      ]
    },
    {
      "cell_type": "code",
      "source": [
        "!pip install newspaper3k"
      ],
      "metadata": {
        "id": "PvcQJAEDwMo1"
      },
      "execution_count": null,
      "outputs": []
    },
    {
      "cell_type": "code",
      "source": [
        "import requests\n",
        "from bs4 import BeautifulSoup\n",
        "from newspaper import Article\n",
        "import pandas as pd\n"
      ],
      "metadata": {
        "id": "KZb80dhdwsgi"
      },
      "execution_count": 2,
      "outputs": []
    },
    {
      "cell_type": "code",
      "source": [
        "url = \"https://www.cnn.com/article/sitemap-2023-2.html\"\n",
        "\n",
        "response = requests.get(url)\n",
        "soup = BeautifulSoup(response.text, \"html.parser\")\n",
        "news_URL=[]\n",
        "for link in soup.find_all(\"a\"):\n",
        "    href = link.get(\"href\")\n",
        "    if href and href.startswith(\"https://www.cnn.com/2023/02/\"):\n",
        "        news_URL.append(href)"
      ],
      "metadata": {
        "id": "jgZVyimku72K"
      },
      "execution_count": 3,
      "outputs": []
    },
    {
      "cell_type": "code",
      "source": [
        "news_content=[]\n",
        "for i in range(len(news_URL)):\n",
        "  article = Article(news_URL[i])\n",
        "  article.download()\n",
        "  article.parse()\n",
        "  news_content.append(article.text)\n",
        "\n",
        "news_content"
      ],
      "metadata": {
        "cellView": "code",
        "id": "2kjTGunUxq4g"
      },
      "execution_count": null,
      "outputs": []
    },
    {
      "cell_type": "code",
      "source": [
        "df=pd.DataFrame(news_content)"
      ],
      "metadata": {
        "id": "NmoJ3Pu2zoAh"
      },
      "execution_count": 8,
      "outputs": []
    },
    {
      "cell_type": "code",
      "source": [
        "df.to_csv(\"news202302.csv\")"
      ],
      "metadata": {
        "id": "drB6NL7W5ldW"
      },
      "execution_count": 9,
      "outputs": []
    }
  ]
}